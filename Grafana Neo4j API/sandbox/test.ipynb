{
 "cells": [
  {
   "cell_type": "code",
   "execution_count": 150,
   "source": [
    "import py2neo \r\n",
    "from py2neo import Graph\r\n",
    "from py2neo.export import to_pandas_data_frame\r\n",
    "import pandas as pd\r\n",
    "import json\r\n",
    "\r\n",
    "DN_HOST = 'localhost'\r\n",
    "DB_PORT = 7687\r\n",
    "DB_USERNAME = 'neo4j'\r\n",
    "DB_PW = 'test'\r\n",
    "DB_NAME = 'powerplant'\r\n",
    "\r\n",
    "graph = Graph(\r\n",
    "host=DN_HOST,\r\n",
    "port=DB_PORT,\r\n",
    "user=DB_USERNAME,\r\n",
    "password=DB_PW,\r\n",
    "name=DB_NAME\r\n",
    ")\r\n",
    "\r\n",
    "schema_query = \"MATCH (n) RETURN n\"\r\n",
    "df = to_pandas_data_frame(graph.run(schema_query))\r\n",
    "\r\n",
    "df['n'].apply(pd.Series)\r\n",
    "\r\n",
    "print(py2neo.__version__)"
   ],
   "outputs": [
    {
     "output_type": "stream",
     "name": "stdout",
     "text": [
      "2021.1.0\n"
     ]
    }
   ],
   "metadata": {}
  },
  {
   "cell_type": "code",
   "execution_count": 68,
   "source": [
    "import pandas as pd\r\n",
    "import json\r\n",
    "from py2neo import Node,Relationship,Graph,Path,Subgraph\r\n",
    "from py2neo import NodeMatcher,RelationshipMatcher\r\n",
    "from py2neo.export import to_pandas_data_frame\r\n",
    "\r\n",
    "DN_HOST = 'localhost'\r\n",
    "DB_PORT = 7687\r\n",
    "DB_USERNAME = 'neo4j'\r\n",
    "DB_PW = 'test'\r\n",
    "DB_NAME = 'powerplant'\r\n",
    "\r\n",
    "graph = Graph(\r\n",
    "host=DN_HOST,\r\n",
    "port=DB_PORT,\r\n",
    "user=DB_USERNAME,\r\n",
    "password=DB_PW,\r\n",
    "name=DB_NAME\r\n",
    ")\r\n",
    "\r\n",
    "graph.schema.node_labels "
   ],
   "outputs": [
    {
     "output_type": "execute_result",
     "data": {
      "text/plain": [
       "frozenset({'Company',\n",
       "           'Department',\n",
       "           'Device',\n",
       "           'Node',\n",
       "           'OEM',\n",
       "           'Plant',\n",
       "           'Sensor',\n",
       "           'SignalType',\n",
       "           'System',\n",
       "           '_Bloom_Perspective_'})"
      ]
     },
     "metadata": {},
     "execution_count": 68
    }
   ],
   "metadata": {}
  },
  {
   "cell_type": "code",
   "execution_count": 145,
   "source": [
    "schema_query = \"MATCH (n)-[r]->(m) RETURN type(r) AS mainStat, id(r) as id, id(n) as source, id(m) as target\"\r\n",
    "df = graph.run(schema_query).to_data_frame()\r\n",
    "json.dumps([row.to_dict() for index,row in df.iterrows()])"
   ],
   "outputs": [
    {
     "output_type": "execute_result",
     "data": {
      "text/plain": [
       "'[{\"mainStat\": \"HAS_PLANT\", \"id\": 337, \"source\": 40, \"target\": 15}, {\"mainStat\": \"HAS_PLANT\", \"id\": 338, \"source\": 40, \"target\": 16}, {\"mainStat\": \"HAS_PLANT\", \"id\": 339, \"source\": 40, \"target\": 17}, {\"mainStat\": \"HAS_SYSTEM\", \"id\": 340, \"source\": 17, \"target\": 18}, {\"mainStat\": \"HAS_SYSTEM\", \"id\": 341, \"source\": 17, \"target\": 24}, {\"mainStat\": \"HAS_SYSTEM\", \"id\": 342, \"source\": 17, \"target\": 25}, {\"mainStat\": \"HAS_SYSTEM\", \"id\": 343, \"source\": 17, \"target\": 26}, {\"mainStat\": \"HAS_SYSTEM\", \"id\": 344, \"source\": 17, \"target\": 27}, {\"mainStat\": \"HAS_SYSTEM\", \"id\": 345, \"source\": 17, \"target\": 29}, {\"mainStat\": \"HAS_SYSTEM\", \"id\": 346, \"source\": 17, \"target\": 30}, {\"mainStat\": \"HAS_DEPARTMENT\", \"id\": 347, \"source\": 4, \"target\": 40}, {\"mainStat\": \"HAS_DEVICE\", \"id\": 414, \"source\": 30, \"target\": 41}, {\"mainStat\": \"HAS_DEVICE\", \"id\": 415, \"source\": 30, \"target\": 42}, {\"mainStat\": \"CONTROLS\", \"id\": 85, \"source\": 66, \"target\": 49}, {\"mainStat\": \"HAS_SENSOR\", \"id\": 532, \"source\": 125, \"target\": 49}, {\"mainStat\": \"CONTROLS\", \"id\": 86, \"source\": 66, \"target\": 50}, {\"mainStat\": \"HAS_SENSOR\", \"id\": 533, \"source\": 125, \"target\": 50}, {\"mainStat\": \"HAS_DEVICE\", \"id\": 416, \"source\": 30, \"target\": 51}, {\"mainStat\": \"HAS_DEVICE\", \"id\": 417, \"source\": 30, \"target\": 52}, {\"mainStat\": \"HAS_DEVICE\", \"id\": 412, \"source\": 17, \"target\": 53}, {\"mainStat\": \"HAS_DEVICE\", \"id\": 418, \"source\": 30, \"target\": 62}, {\"mainStat\": \"HAS_DEVICE\", \"id\": 419, \"source\": 30, \"target\": 63}, {\"mainStat\": \"HAS_ALARM\", \"id\": 570, \"source\": 258, \"target\": 64}, {\"mainStat\": \"HAS_ALARM\", \"id\": 571, \"source\": 259, \"target\": 64}, {\"mainStat\": \"HAS_ALARM\", \"id\": 572, \"source\": 272, \"target\": 64}, {\"mainStat\": \"HAS_ALARM\", \"id\": 573, \"source\": 273, \"target\": 64}, {\"mainStat\": \"HAS_ALARM\", \"id\": 574, \"source\": 274, \"target\": 64}, {\"mainStat\": \"HAS_ALARM\", \"id\": 575, \"source\": 275, \"target\": 64}, {\"mainStat\": \"HAS_DEVICE\", \"id\": 413, \"source\": 17, \"target\": 64}, {\"mainStat\": \"HAS_DEVICE\", \"id\": 420, \"source\": 30, \"target\": 65}, {\"mainStat\": \"HAS_DEVICE\", \"id\": 421, \"source\": 30, \"target\": 66}, {\"mainStat\": \"HAS_DEVICE\", \"id\": 427, \"source\": 66, \"target\": 67}, {\"mainStat\": \"HAS_DEVICE\", \"id\": 422, \"source\": 30, \"target\": 68}, {\"mainStat\": \"HAS_DEVICE\", \"id\": 428, \"source\": 51, \"target\": 69}, {\"mainStat\": \"HAS_DEVICE\", \"id\": 426, \"source\": 30, \"target\": 69}, {\"mainStat\": \"HAS_DEVICE\", \"id\": 425, \"source\": 42, \"target\": 69}, {\"mainStat\": \"HAS_DEVICE\", \"id\": 434, \"source\": 52, \"target\": 69}, {\"mainStat\": \"HAS_DEVICE\", \"id\": 423, \"source\": 41, \"target\": 70}, {\"mainStat\": \"HAS_DEVICE\", \"id\": 424, \"source\": 30, \"target\": 71}, {\"mainStat\": \"HAS_DEVICE\", \"id\": 435, \"source\": 130, \"target\": 131}, {\"mainStat\": \"HAS_DEVICE\", \"id\": 436, \"source\": 130, \"target\": 132}, {\"mainStat\": \"HAS_DEVICE\", \"id\": 429, \"source\": 70, \"target\": 133}, {\"mainStat\": \"HAS_DEVICE\", \"id\": 430, \"source\": 70, \"target\": 134}, {\"mainStat\": \"HAS_DEVICE\", \"id\": 431, \"source\": 70, \"target\": 135}, {\"mainStat\": \"HAS_DEVICE\", \"id\": 432, \"source\": 69, \"target\": 136}, {\"mainStat\": \"HAS_DEVICE\", \"id\": 433, \"source\": 69, \"target\": 137}, {\"mainStat\": \"HAS_SENSOR\", \"id\": 447, \"source\": 51, \"target\": 228}, {\"mainStat\": \"HAS_SENSOR\", \"id\": 448, \"source\": 51, \"target\": 229}, {\"mainStat\": \"HAS_SENSOR\", \"id\": 449, \"source\": 51, \"target\": 246}, {\"mainStat\": \"HAS_SENSOR\", \"id\": 450, \"source\": 51, \"target\": 247}, {\"mainStat\": \"CONTROLS\", \"id\": 3, \"source\": 66, \"target\": 248}, {\"mainStat\": \"HAS_SENSOR\", \"id\": 497, \"source\": 67, \"target\": 248}, {\"mainStat\": \"CONTROLS\", \"id\": 4, \"source\": 66, \"target\": 249}, {\"mainStat\": \"HAS_SENSOR\", \"id\": 498, \"source\": 42, \"target\": 249}, {\"mainStat\": \"CONTROLS\", \"id\": 437, \"source\": 66, \"target\": 250}, {\"mainStat\": \"HAS_SENSOR\", \"id\": 451, \"source\": 30, \"target\": 250}, {\"mainStat\": \"CONTROLS\", \"id\": 438, \"source\": 66, \"target\": 251}, {\"mainStat\": \"HAS_SENSOR\", \"id\": 452, \"source\": 67, \"target\": 251}, {\"mainStat\": \"CONTROLS\", \"id\": 439, \"source\": 66, \"target\": 252}, {\"mainStat\": \"HAS_SENSOR\", \"id\": 453, \"source\": 67, \"target\": 252}, {\"mainStat\": \"CONTROLS\", \"id\": 440, \"source\": 66, \"target\": 253}, {\"mainStat\": \"HAS_SENSOR\", \"id\": 454, \"source\": 67, \"target\": 253}, {\"mainStat\": \"CONTROLS\", \"id\": 441, \"source\": 66, \"target\": 254}, {\"mainStat\": \"HAS_SENSOR\", \"id\": 455, \"source\": 67, \"target\": 254}, {\"mainStat\": \"CONTROLS\", \"id\": 442, \"source\": 66, \"target\": 255}, {\"mainStat\": \"HAS_SENSOR\", \"id\": 456, \"source\": 67, \"target\": 255}, {\"mainStat\": \"CONTROLS\", \"id\": 443, \"source\": 66, \"target\": 256}, {\"mainStat\": \"HAS_SENSOR\", \"id\": 457, \"source\": 67, \"target\": 256}, {\"mainStat\": \"CONTROLS\", \"id\": 444, \"source\": 66, \"target\": 257}, {\"mainStat\": \"HAS_SENSOR\", \"id\": 458, \"source\": 67, \"target\": 257}, {\"mainStat\": \"CONTROLS\", \"id\": 445, \"source\": 66, \"target\": 258}, {\"mainStat\": \"HAS_SENSOR\", \"id\": 459, \"source\": 67, \"target\": 258}, {\"mainStat\": \"CONTROLS\", \"id\": 446, \"source\": 66, \"target\": 259}, {\"mainStat\": \"HAS_SENSOR\", \"id\": 460, \"source\": 67, \"target\": 259}, {\"mainStat\": \"CONTROLS\", \"id\": 577, \"source\": 66, \"target\": 260}, {\"mainStat\": \"HAS_SENSOR\", \"id\": 461, \"source\": 67, \"target\": 260}, {\"mainStat\": \"CONTROLS\", \"id\": 578, \"source\": 66, \"target\": 261}, {\"mainStat\": \"HAS_SENSOR\", \"id\": 462, \"source\": 67, \"target\": 261}, {\"mainStat\": \"CONTROLS\", \"id\": 579, \"source\": 66, \"target\": 262}, {\"mainStat\": \"HAS_SENSOR\", \"id\": 463, \"source\": 67, \"target\": 262}, {\"mainStat\": \"CONTROLS\", \"id\": 580, \"source\": 66, \"target\": 263}, {\"mainStat\": \"HAS_SENSOR\", \"id\": 464, \"source\": 67, \"target\": 263}, {\"mainStat\": \"CONTROLS\", \"id\": 581, \"source\": 66, \"target\": 264}, {\"mainStat\": \"HAS_SENSOR\", \"id\": 465, \"source\": 67, \"target\": 264}, {\"mainStat\": \"CONTROLS\", \"id\": 582, \"source\": 66, \"target\": 265}, {\"mainStat\": \"HAS_SENSOR\", \"id\": 466, \"source\": 67, \"target\": 265}, {\"mainStat\": \"CONTROLS\", \"id\": 583, \"source\": 66, \"target\": 266}, {\"mainStat\": \"HAS_SENSOR\", \"id\": 467, \"source\": 67, \"target\": 266}, {\"mainStat\": \"CONTROLS\", \"id\": 584, \"source\": 66, \"target\": 267}, {\"mainStat\": \"HAS_SENSOR\", \"id\": 468, \"source\": 67, \"target\": 267}, {\"mainStat\": \"CONTROLS\", \"id\": 585, \"source\": 66, \"target\": 268}, {\"mainStat\": \"HAS_SENSOR\", \"id\": 469, \"source\": 67, \"target\": 268}, {\"mainStat\": \"CONTROLS\", \"id\": 586, \"source\": 66, \"target\": 269}, {\"mainStat\": \"HAS_SENSOR\", \"id\": 470, \"source\": 67, \"target\": 269}, {\"mainStat\": \"CONTROLS\", \"id\": 587, \"source\": 66, \"target\": 270}, {\"mainStat\": \"HAS_SENSOR\", \"id\": 471, \"source\": 67, \"target\": 270}, {\"mainStat\": \"CONTROLS\", \"id\": 588, \"source\": 66, \"target\": 271}, {\"mainStat\": \"HAS_SENSOR\", \"id\": 472, \"source\": 67, \"target\": 271}, {\"mainStat\": \"CONTROLS\", \"id\": 589, \"source\": 66, \"target\": 272}, {\"mainStat\": \"HAS_SENSOR\", \"id\": 473, \"source\": 67, \"target\": 272}, {\"mainStat\": \"CONTROLS\", \"id\": 1, \"source\": 66, \"target\": 273}, {\"mainStat\": \"HAS_SENSOR\", \"id\": 499, \"source\": 42, \"target\": 273}, {\"mainStat\": \"CONTROLS\", \"id\": 2, \"source\": 66, \"target\": 274}, {\"mainStat\": \"HAS_SENSOR\", \"id\": 500, \"source\": 42, \"target\": 274}, {\"mainStat\": \"CONTROLS\", \"id\": 590, \"source\": 66, \"target\": 275}, {\"mainStat\": \"HAS_SENSOR\", \"id\": 474, \"source\": 67, \"target\": 275}, {\"mainStat\": \"CONTROLS\", \"id\": 591, \"source\": 66, \"target\": 276}, {\"mainStat\": \"HAS_SENSOR\", \"id\": 475, \"source\": 67, \"target\": 276}, {\"mainStat\": \"CONTROLS\", \"id\": 592, \"source\": 66, \"target\": 277}, {\"mainStat\": \"HAS_SENSOR\", \"id\": 476, \"source\": 67, \"target\": 277}, {\"mainStat\": \"CONTROLS\", \"id\": 0, \"source\": 66, \"target\": 278}, {\"mainStat\": \"HAS_SENSOR\", \"id\": 477, \"source\": 67, \"target\": 278}, {\"mainStat\": \"CONTROLS\", \"id\": 5, \"source\": 66, \"target\": 279}, {\"mainStat\": \"HAS_SENSOR\", \"id\": 478, \"source\": 67, \"target\": 279}, {\"mainStat\": \"CONTROLS\", \"id\": 6, \"source\": 66, \"target\": 280}, {\"mainStat\": \"HAS_SENSOR\", \"id\": 479, \"source\": 67, \"target\": 280}, {\"mainStat\": \"CONTROLS\", \"id\": 7, \"source\": 66, \"target\": 281}, {\"mainStat\": \"HAS_SENSOR\", \"id\": 480, \"source\": 67, \"target\": 281}, {\"mainStat\": \"CONTROLS\", \"id\": 8, \"source\": 66, \"target\": 282}, {\"mainStat\": \"HAS_SENSOR\", \"id\": 481, \"source\": 67, \"target\": 282}, {\"mainStat\": \"CONTROLS\", \"id\": 9, \"source\": 66, \"target\": 283}, {\"mainStat\": \"HAS_SENSOR\", \"id\": 482, \"source\": 67, \"target\": 283}, {\"mainStat\": \"CONTROLS\", \"id\": 10, \"source\": 66, \"target\": 284}, {\"mainStat\": \"HAS_SENSOR\", \"id\": 483, \"source\": 67, \"target\": 284}, {\"mainStat\": \"CONTROLS\", \"id\": 11, \"source\": 66, \"target\": 285}, {\"mainStat\": \"HAS_SENSOR\", \"id\": 484, \"source\": 67, \"target\": 285}, {\"mainStat\": \"CONTROLS\", \"id\": 12, \"source\": 66, \"target\": 286}, {\"mainStat\": \"HAS_SENSOR\", \"id\": 485, \"source\": 67, \"target\": 286}, {\"mainStat\": \"CONTROLS\", \"id\": 13, \"source\": 66, \"target\": 287}, {\"mainStat\": \"HAS_SENSOR\", \"id\": 486, \"source\": 67, \"target\": 287}, {\"mainStat\": \"CONTROLS\", \"id\": 14, \"source\": 66, \"target\": 289}, {\"mainStat\": \"HAS_SENSOR\", \"id\": 487, \"source\": 67, \"target\": 289}, {\"mainStat\": \"CONTROLS\", \"id\": 15, \"source\": 66, \"target\": 291}, {\"mainStat\": \"HAS_SENSOR\", \"id\": 488, \"source\": 67, \"target\": 291}, {\"mainStat\": \"CONTROLS\", \"id\": 16, \"source\": 66, \"target\": 293}, {\"mainStat\": \"HAS_SENSOR\", \"id\": 489, \"source\": 67, \"target\": 293}, {\"mainStat\": \"CONTROLS\", \"id\": 17, \"source\": 66, \"target\": 295}, {\"mainStat\": \"HAS_SENSOR\", \"id\": 490, \"source\": 67, \"target\": 295}, {\"mainStat\": \"CONTROLS\", \"id\": 18, \"source\": 66, \"target\": 309}, {\"mainStat\": \"HAS_SENSOR\", \"id\": 491, \"source\": 67, \"target\": 309}, {\"mainStat\": \"CONTROLS\", \"id\": 19, \"source\": 66, \"target\": 311}, {\"mainStat\": \"HAS_SENSOR\", \"id\": 492, \"source\": 67, \"target\": 311}, {\"mainStat\": \"CONTROLS\", \"id\": 20, \"source\": 66, \"target\": 312}, {\"mainStat\": \"HAS_SENSOR\", \"id\": 493, \"source\": 67, \"target\": 312}, {\"mainStat\": \"CONTROLS\", \"id\": 21, \"source\": 66, \"target\": 313}, {\"mainStat\": \"HAS_SENSOR\", \"id\": 494, \"source\": 67, \"target\": 313}, {\"mainStat\": \"CONTROLS\", \"id\": 22, \"source\": 66, \"target\": 314}, {\"mainStat\": \"HAS_SENSOR\", \"id\": 495, \"source\": 67, \"target\": 314}, {\"mainStat\": \"CONTROLS\", \"id\": 23, \"source\": 66, \"target\": 315}, {\"mainStat\": \"HAS_SENSOR\", \"id\": 496, \"source\": 67, \"target\": 315}, {\"mainStat\": \"CONTROLS\", \"id\": 24, \"source\": 66, \"target\": 316}, {\"mainStat\": \"HAS_SENSOR\", \"id\": 534, \"source\": 71, \"target\": 316}, {\"mainStat\": \"CONTROLS\", \"id\": 25, \"source\": 66, \"target\": 317}, {\"mainStat\": \"HAS_SENSOR\", \"id\": 535, \"source\": 71, \"target\": 317}, {\"mainStat\": \"CONTROLS\", \"id\": 26, \"source\": 66, \"target\": 318}, {\"mainStat\": \"HAS_SENSOR\", \"id\": 536, \"source\": 71, \"target\": 318}, {\"mainStat\": \"CONTROLS\", \"id\": 27, \"source\": 66, \"target\": 319}, {\"mainStat\": \"HAS_SENSOR\", \"id\": 537, \"source\": 71, \"target\": 319}, {\"mainStat\": \"CONTROLS\", \"id\": 28, \"source\": 66, \"target\": 320}, {\"mainStat\": \"HAS_SENSOR\", \"id\": 538, \"source\": 71, \"target\": 320}, {\"mainStat\": \"CONTROLS\", \"id\": 29, \"source\": 66, \"target\": 321}, {\"mainStat\": \"HAS_SENSOR\", \"id\": 539, \"source\": 71, \"target\": 321}, {\"mainStat\": \"CONTROLS\", \"id\": 30, \"source\": 66, \"target\": 322}, {\"mainStat\": \"HAS_SENSOR\", \"id\": 540, \"source\": 31, \"target\": 322}, {\"mainStat\": \"CONTROLS\", \"id\": 31, \"source\": 66, \"target\": 323}, {\"mainStat\": \"HAS_SENSOR\", \"id\": 551, \"source\": 31, \"target\": 323}, {\"mainStat\": \"CONTROLS\", \"id\": 32, \"source\": 66, \"target\": 324}, {\"mainStat\": \"HAS_SENSOR\", \"id\": 552, \"source\": 31, \"target\": 324}, {\"mainStat\": \"CONTROLS\", \"id\": 33, \"source\": 66, \"target\": 325}, {\"mainStat\": \"HAS_SENSOR\", \"id\": 553, \"source\": 31, \"target\": 325}, {\"mainStat\": \"CONTROLS\", \"id\": 34, \"source\": 66, \"target\": 326}, {\"mainStat\": \"HAS_SENSOR\", \"id\": 554, \"source\": 31, \"target\": 326}, {\"mainStat\": \"CONTROLS\", \"id\": 35, \"source\": 66, \"target\": 327}, {\"mainStat\": \"HAS_SENSOR\", \"id\": 555, \"source\": 31, \"target\": 327}, {\"mainStat\": \"CONTROLS\", \"id\": 36, \"source\": 66, \"target\": 328}, {\"mainStat\": \"HAS_SENSOR\", \"id\": 556, \"source\": 31, \"target\": 328}, {\"mainStat\": \"CONTROLS\", \"id\": 37, \"source\": 66, \"target\": 329}, {\"mainStat\": \"HAS_SENSOR\", \"id\": 557, \"source\": 31, \"target\": 329}, {\"mainStat\": \"CONTROLS\", \"id\": 38, \"source\": 66, \"target\": 330}, {\"mainStat\": \"HAS_SENSOR\", \"id\": 558, \"source\": 31, \"target\": 330}, {\"mainStat\": \"CONTROLS\", \"id\": 39, \"source\": 66, \"target\": 331}, {\"mainStat\": \"HAS_SENSOR\", \"id\": 559, \"source\": 31, \"target\": 331}, {\"mainStat\": \"CONTROLS\", \"id\": 40, \"source\": 66, \"target\": 332}, {\"mainStat\": \"HAS_SENSOR\", \"id\": 560, \"source\": 31, \"target\": 332}, {\"mainStat\": \"CONTROLS\", \"id\": 41, \"source\": 66, \"target\": 333}, {\"mainStat\": \"HAS_SENSOR\", \"id\": 561, \"source\": 31, \"target\": 333}, {\"mainStat\": \"CONTROLS\", \"id\": 42, \"source\": 66, \"target\": 335}, {\"mainStat\": \"HAS_SENSOR\", \"id\": 562, \"source\": 31, \"target\": 335}, {\"mainStat\": \"CONTROLS\", \"id\": 43, \"source\": 66, \"target\": 337}, {\"mainStat\": \"HAS_SENSOR\", \"id\": 563, \"source\": 31, \"target\": 337}, {\"mainStat\": \"CONTROLS\", \"id\": 44, \"source\": 66, \"target\": 339}, {\"mainStat\": \"HAS_SENSOR\", \"id\": 564, \"source\": 31, \"target\": 339}, {\"mainStat\": \"CONTROLS\", \"id\": 45, \"source\": 66, \"target\": 341}, {\"mainStat\": \"HAS_SENSOR\", \"id\": 565, \"source\": 31, \"target\": 341}, {\"mainStat\": \"CONTROLS\", \"id\": 46, \"source\": 66, \"target\": 343}, {\"mainStat\": \"HAS_SENSOR\", \"id\": 566, \"source\": 31, \"target\": 343}, {\"mainStat\": \"CONTROLS\", \"id\": 47, \"source\": 66, \"target\": 344}, {\"mainStat\": \"HAS_SENSOR\", \"id\": 567, \"source\": 31, \"target\": 344}, {\"mainStat\": \"CONTROLS\", \"id\": 48, \"source\": 66, \"target\": 345}, {\"mainStat\": \"HAS_SENSOR\", \"id\": 568, \"source\": 31, \"target\": 345}, {\"mainStat\": \"CONTROLS\", \"id\": 49, \"source\": 66, \"target\": 347}, {\"mainStat\": \"HAS_SENSOR\", \"id\": 569, \"source\": 31, \"target\": 347}, {\"mainStat\": \"CONTROLS\", \"id\": 50, \"source\": 66, \"target\": 349}, {\"mainStat\": \"HAS_SENSOR\", \"id\": 502, \"source\": 68, \"target\": 349}, {\"mainStat\": \"CONTROLS\", \"id\": 51, \"source\": 66, \"target\": 350}, {\"mainStat\": \"HAS_SENSOR\", \"id\": 503, \"source\": 68, \"target\": 350}, {\"mainStat\": \"CONTROLS\", \"id\": 52, \"source\": 66, \"target\": 351}, {\"mainStat\": \"HAS_SENSOR\", \"id\": 504, \"source\": 68, \"target\": 351}, {\"mainStat\": \"CONTROLS\", \"id\": 53, \"source\": 66, \"target\": 352}, {\"mainStat\": \"HAS_SENSOR\", \"id\": 505, \"source\": 68, \"target\": 352}, {\"mainStat\": \"CONTROLS\", \"id\": 54, \"source\": 66, \"target\": 353}, {\"mainStat\": \"HAS_SENSOR\", \"id\": 507, \"source\": 79, \"target\": 353}, {\"mainStat\": \"CONTROLS\", \"id\": 55, \"source\": 66, \"target\": 354}, {\"mainStat\": \"HAS_SENSOR\", \"id\": 508, \"source\": 79, \"target\": 354}, {\"mainStat\": \"CONTROLS\", \"id\": 56, \"source\": 66, \"target\": 355}, {\"mainStat\": \"HAS_SENSOR\", \"id\": 509, \"source\": 79, \"target\": 355}, {\"mainStat\": \"CONTROLS\", \"id\": 57, \"source\": 66, \"target\": 356}, {\"mainStat\": \"HAS_SENSOR\", \"id\": 510, \"source\": 79, \"target\": 356}, {\"mainStat\": \"CONTROLS\", \"id\": 58, \"source\": 66, \"target\": 357}, {\"mainStat\": \"HAS_SENSOR\", \"id\": 511, \"source\": 79, \"target\": 357}, {\"mainStat\": \"CONTROLS\", \"id\": 59, \"source\": 66, \"target\": 358}, {\"mainStat\": \"HAS_SENSOR\", \"id\": 512, \"source\": 79, \"target\": 358}, {\"mainStat\": \"CONTROLS\", \"id\": 60, \"source\": 66, \"target\": 359}, {\"mainStat\": \"HAS_SENSOR\", \"id\": 513, \"source\": 79, \"target\": 359}, {\"mainStat\": \"CONTROLS\", \"id\": 61, \"source\": 66, \"target\": 360}, {\"mainStat\": \"HAS_SENSOR\", \"id\": 514, \"source\": 79, \"target\": 360}, {\"mainStat\": \"CONTROLS\", \"id\": 62, \"source\": 66, \"target\": 361}, {\"mainStat\": \"HAS_SENSOR\", \"id\": 515, \"source\": 79, \"target\": 361}, {\"mainStat\": \"CONTROLS\", \"id\": 63, \"source\": 66, \"target\": 362}, {\"mainStat\": \"HAS_SENSOR\", \"id\": 516, \"source\": 79, \"target\": 362}, {\"mainStat\": \"CONTROLS\", \"id\": 64, \"source\": 66, \"target\": 363}, {\"mainStat\": \"HAS_SENSOR\", \"id\": 517, \"source\": 79, \"target\": 363}, {\"mainStat\": \"CONTROLS\", \"id\": 69, \"source\": 66, \"target\": 364}, {\"mainStat\": \"HAS_SENSOR\", \"id\": 518, \"source\": 79, \"target\": 364}, {\"mainStat\": \"CONTROLS\", \"id\": 70, \"source\": 66, \"target\": 365}, {\"mainStat\": \"HAS_SENSOR\", \"id\": 519, \"source\": 79, \"target\": 365}, {\"mainStat\": \"CONTROLS\", \"id\": 71, \"source\": 66, \"target\": 366}, {\"mainStat\": \"HAS_SENSOR\", \"id\": 522, \"source\": 125, \"target\": 366}, {\"mainStat\": \"CONTROLS\", \"id\": 72, \"source\": 66, \"target\": 367}, {\"mainStat\": \"HAS_SENSOR\", \"id\": 523, \"source\": 125, \"target\": 367}, {\"mainStat\": \"CONTROLS\", \"id\": 73, \"source\": 66, \"target\": 368}, {\"mainStat\": \"HAS_SENSOR\", \"id\": 524, \"source\": 125, \"target\": 368}, {\"mainStat\": \"CONTROLS\", \"id\": 74, \"source\": 66, \"target\": 369}, {\"mainStat\": \"HAS_SENSOR\", \"id\": 525, \"source\": 125, \"target\": 369}, {\"mainStat\": \"CONTROLS\", \"id\": 75, \"source\": 66, \"target\": 370}, {\"mainStat\": \"HAS_SENSOR\", \"id\": 526, \"source\": 125, \"target\": 370}, {\"mainStat\": \"CONTROLS\", \"id\": 76, \"source\": 66, \"target\": 371}, {\"mainStat\": \"HAS_SENSOR\", \"id\": 527, \"source\": 125, \"target\": 371}, {\"mainStat\": \"CONTROLS\", \"id\": 77, \"source\": 66, \"target\": 372}, {\"mainStat\": \"HAS_SENSOR\", \"id\": 528, \"source\": 125, \"target\": 372}, {\"mainStat\": \"CONTROLS\", \"id\": 78, \"source\": 66, \"target\": 373}, {\"mainStat\": \"HAS_SENSOR\", \"id\": 529, \"source\": 125, \"target\": 373}, {\"mainStat\": \"CONTROLS\", \"id\": 79, \"source\": 66, \"target\": 374}, {\"mainStat\": \"HAS_SENSOR\", \"id\": 530, \"source\": 125, \"target\": 374}, {\"mainStat\": \"CONTROLS\", \"id\": 80, \"source\": 66, \"target\": 375}, {\"mainStat\": \"HAS_SENSOR\", \"id\": 531, \"source\": 125, \"target\": 375}, {\"mainStat\": \"HAS_SENSOR\", \"id\": 501, \"source\": 68, \"target\": 382}, {\"mainStat\": \"HAS_SENSOR\", \"id\": 506, \"source\": 79, \"target\": 383}, {\"mainStat\": \"HAS_SENSOR\", \"id\": 520, \"source\": 125, \"target\": 384}, {\"mainStat\": \"HAS_SENSOR\", \"id\": 521, \"source\": 125, \"target\": 385}, {\"mainStat\": \"HAS_SIGNAL_TYPE\", \"id\": 354, \"source\": 225, \"target\": 386}, {\"mainStat\": \"HAS_SIGNAL_TYPE\", \"id\": 352, \"source\": 224, \"target\": 386}, {\"mainStat\": \"HAS_SIGNAL_TYPE\", \"id\": 358, \"source\": 227, \"target\": 386}, {\"mainStat\": \"HAS_SIGNAL_TYPE\", \"id\": 356, \"source\": 226, \"target\": 386}, {\"mainStat\": \"HAS_SIGNAL_TYPE\", \"id\": 378, \"source\": 253, \"target\": 386}, {\"mainStat\": \"HAS_SIGNAL_TYPE\", \"id\": 376, \"source\": 252, \"target\": 386}, {\"mainStat\": \"HAS_SIGNAL_TYPE\", \"id\": 382, \"source\": 255, \"target\": 386}, {\"mainStat\": \"HAS_SIGNAL_TYPE\", \"id\": 380, \"source\": 254, \"target\": 386}, {\"mainStat\": \"HAS_SIGNAL_TYPE\", \"id\": 374, \"source\": 251, \"target\": 386}, {\"mainStat\": \"HAS_SIGNAL_TYPE\", \"id\": 348, \"source\": 138, \"target\": 386}, {\"mainStat\": \"HAS_SIGNAL_TYPE\", \"id\": 350, \"source\": 147, \"target\": 386}, {\"mainStat\": \"HAS_SIGNAL_TYPE\", \"id\": 388, \"source\": 258, \"target\": 386}, {\"mainStat\": \"HAS_SIGNAL_TYPE\", \"id\": 390, \"source\": 259, \"target\": 386}, {\"mainStat\": \"HAS_SIGNAL_TYPE\", \"id\": 384, \"source\": 256, \"target\": 386}, {\"mainStat\": \"HAS_SIGNAL_TYPE\", \"id\": 386, \"source\": 257, \"target\": 386}, {\"mainStat\": \"HAS_SIGNAL_TYPE\", \"id\": 396, \"source\": 262, \"target\": 386}, {\"mainStat\": \"HAS_SIGNAL_TYPE\", \"id\": 398, \"source\": 263, \"target\": 386}, {\"mainStat\": \"HAS_SIGNAL_TYPE\", \"id\": 392, \"source\": 260, \"target\": 386}, {\"mainStat\": \"HAS_SIGNAL_TYPE\", \"id\": 394, \"source\": 261, \"target\": 386}, {\"mainStat\": \"HAS_SIGNAL_TYPE\", \"id\": 404, \"source\": 266, \"target\": 386}, {\"mainStat\": \"HAS_SIGNAL_TYPE\", \"id\": 406, \"source\": 267, \"target\": 386}, {\"mainStat\": \"HAS_SIGNAL_TYPE\", \"id\": 400, \"source\": 264, \"target\": 386}, {\"mainStat\": \"HAS_SIGNAL_TYPE\", \"id\": 402, \"source\": 265, \"target\": 386}, {\"mainStat\": \"HAS_SIGNAL_TYPE\", \"id\": 408, \"source\": 268, \"target\": 386}, {\"mainStat\": \"HAS_SIGNAL_TYPE\", \"id\": 410, \"source\": 269, \"target\": 386}, {\"mainStat\": \"HAS_OEM\", \"id\": 355, \"source\": 225, \"target\": 387}, {\"mainStat\": \"HAS_OEM\", \"id\": 353, \"source\": 224, \"target\": 387}, {\"mainStat\": \"HAS_OEM\", \"id\": 359, \"source\": 227, \"target\": 387}, {\"mainStat\": \"HAS_OEM\", \"id\": 357, \"source\": 226, \"target\": 387}, {\"mainStat\": \"HAS_OEM\", \"id\": 379, \"source\": 253, \"target\": 387}, {\"mainStat\": \"HAS_OEM\", \"id\": 377, \"source\": 252, \"target\": 387}, {\"mainStat\": \"HAS_OEM\", \"id\": 383, \"source\": 255, \"target\": 387}, {\"mainStat\": \"HAS_OEM\", \"id\": 381, \"source\": 254, \"target\": 387}, {\"mainStat\": \"HAS_OEM\", \"id\": 371, \"source\": 249, \"target\": 387}, {\"mainStat\": \"HAS_OEM\", \"id\": 369, \"source\": 248, \"target\": 387}, {\"mainStat\": \"HAS_OEM\", \"id\": 375, \"source\": 251, \"target\": 387}, {\"mainStat\": \"HAS_OEM\", \"id\": 373, \"source\": 250, \"target\": 387}, {\"mainStat\": \"HAS_OEM\", \"id\": 349, \"source\": 138, \"target\": 387}, {\"mainStat\": \"HAS_OEM\", \"id\": 351, \"source\": 147, \"target\": 387}, {\"mainStat\": \"HAS_SIGNAL_TYPE\", \"id\": 362, \"source\": 229, \"target\": 388}, {\"mainStat\": \"HAS_SIGNAL_TYPE\", \"id\": 360, \"source\": 228, \"target\": 388}, {\"mainStat\": \"HAS_SIGNAL_TYPE\", \"id\": 366, \"source\": 247, \"target\": 388}, {\"mainStat\": \"HAS_SIGNAL_TYPE\", \"id\": 364, \"source\": 246, \"target\": 388}, {\"mainStat\": \"HAS_SIGNAL_TYPE\", \"id\": 370, \"source\": 249, \"target\": 388}, {\"mainStat\": \"HAS_SIGNAL_TYPE\", \"id\": 368, \"source\": 248, \"target\": 388}, {\"mainStat\": \"HAS_SIGNAL_TYPE\", \"id\": 372, \"source\": 250, \"target\": 388}, {\"mainStat\": \"HAS_OEM\", \"id\": 363, \"source\": 229, \"target\": 389}, {\"mainStat\": \"HAS_OEM\", \"id\": 361, \"source\": 228, \"target\": 389}, {\"mainStat\": \"HAS_OEM\", \"id\": 367, \"source\": 247, \"target\": 389}, {\"mainStat\": \"HAS_OEM\", \"id\": 365, \"source\": 246, \"target\": 389}, {\"mainStat\": \"HAS_OEM\", \"id\": 389, \"source\": 258, \"target\": 415}, {\"mainStat\": \"HAS_OEM\", \"id\": 391, \"source\": 259, \"target\": 415}, {\"mainStat\": \"HAS_OEM\", \"id\": 385, \"source\": 256, \"target\": 415}, {\"mainStat\": \"HAS_OEM\", \"id\": 387, \"source\": 257, \"target\": 415}, {\"mainStat\": \"HAS_OEM\", \"id\": 393, \"source\": 260, \"target\": 415}, {\"mainStat\": \"HAS_OEM\", \"id\": 395, \"source\": 261, \"target\": 415}, {\"mainStat\": \"HAS_OEM\", \"id\": 397, \"source\": 262, \"target\": 416}, {\"mainStat\": \"HAS_OEM\", \"id\": 399, \"source\": 263, \"target\": 416}, {\"mainStat\": \"HAS_OEM\", \"id\": 405, \"source\": 266, \"target\": 416}, {\"mainStat\": \"HAS_OEM\", \"id\": 407, \"source\": 267, \"target\": 416}, {\"mainStat\": \"HAS_OEM\", \"id\": 401, \"source\": 264, \"target\": 416}, {\"mainStat\": \"HAS_OEM\", \"id\": 403, \"source\": 265, \"target\": 416}, {\"mainStat\": \"HAS_OEM\", \"id\": 409, \"source\": 268, \"target\": 416}, {\"mainStat\": \"HAS_OEM\", \"id\": 411, \"source\": 269, \"target\": 416}]'"
      ]
     },
     "metadata": {},
     "execution_count": 145
    }
   ],
   "metadata": {}
  },
  {
   "cell_type": "code",
   "execution_count": 144,
   "source": [
    "schema_query = \"MATCH (n:Company) RETURN n, id(n) as id\"\r\n",
    "df = graph.run(schema_query).to_data_frame()\r\n",
    "df = pd.concat([df.drop(['n'], axis=1), df['n'].apply(pd.Series)], axis=1)\r\n",
    "df = df.loc[:,~df.columns.duplicated()]\r\n",
    "  \r\n",
    "json.dumps([row.dropna().to_dict() for index,row in df.iterrows()])\r\n"
   ],
   "outputs": [
    {
     "output_type": "execute_result",
     "data": {
      "text/plain": [
       "'[{\"id\": 4, \"name\": \"Energy First\", \"uid\": \"100000\"}]'"
      ]
     },
     "metadata": {},
     "execution_count": 144
    }
   ],
   "metadata": {}
  }
 ],
 "metadata": {
  "orig_nbformat": 4,
  "language_info": {
   "name": "python",
   "version": "3.7.11",
   "mimetype": "text/x-python",
   "codemirror_mode": {
    "name": "ipython",
    "version": 3
   },
   "pygments_lexer": "ipython3",
   "nbconvert_exporter": "python",
   "file_extension": ".py"
  },
  "kernelspec": {
   "name": "python3",
   "display_name": "Python 3.7.10 64-bit ('roborana': conda)"
  },
  "interpreter": {
   "hash": "3a0f00a29e2033a5b0ee045003da1b20fe35932b0fc486a8dbefbb55ed0f96b3"
  }
 },
 "nbformat": 4,
 "nbformat_minor": 2
}