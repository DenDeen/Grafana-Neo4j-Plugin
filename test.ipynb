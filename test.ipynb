{
 "cells": [
  {
   "cell_type": "code",
   "execution_count": 1,
   "metadata": {},
   "outputs": [],
   "source": [
    "import json\r\n",
    "import requests"
   ]
  },
  {
   "cell_type": "code",
   "execution_count": 8,
   "metadata": {},
   "outputs": [
    {
     "data": {
      "text/plain": "'[{\"tagline\": \"Welcome to the Real World\", \"title\": \"The Matrix\", \"released\": 1999, \"id\": 0, \"type\": \"node\"}]'"
     },
     "execution_count": 8,
     "metadata": {},
     "output_type": "execute_result"
    }
   ],
   "source": [
    "URL = \"http://localhost:7474/db/neo4j/tx\"\r\n",
    "\r\n",
    "data = {\r\n",
    "    \"statements\": [\r\n",
    "        {\r\n",
    "            \"statement\": \"MATCH (n) RETURN n LIMIT 1\"\r\n",
    "        }\r\n",
    "    ]\r\n",
    "}\r\n",
    "\r\n",
    "r = requests.post(url = URL, auth=('neo4j', 'test'), json=data).json()\r\n",
    "nodes = []\r\n",
    "for i in r['results'][0]['data']:\r\n",
    "    items = dict(i['row'][0], **i['meta'][0])\r\n",
    "    items.pop('deleted', None)\r\n",
    "    nodes.append(items)\r\n",
    "\r\n",
    "json.dumps(nodes)"
   ]
  },
  {
   "cell_type": "code",
   "execution_count": 9,
   "metadata": {},
   "outputs": [
    {
     "data": {
      "text/plain": "{'id': 0,\n 'type': 'node',\n 'title': 'The Matrix',\n 'subtitle': 'Welcome to the Real World',\n 'mainStat': 1999,\n 'secondaryStat': 'movie'}"
     },
     "execution_count": 9,
     "metadata": {},
     "output_type": "execute_result"
    }
   ],
   "source": [
    "items['title'] = items.pop('title')\r\n",
    "items['subtitle'] = items.pop('tagline')\r\n",
    "items['mainStat'] = items.pop('released')\r\n",
    "items['secondaryStat'] = 'movie'\r\n",
    "items"
   ]
  }
 ],
 "metadata": {
  "kernelspec": {
   "display_name": "Python 3.8.5 64-bit ('base': conda)",
   "name": "python385jvsc74a57bd004acb6ffdaafbba7e9d0e47eb932c23ec3df333f7534192c81a00cca799ec3f6"
  },
  "language_info": {
   "codemirror_mode": {
    "name": "ipython",
    "version": 3
   },
   "file_extension": ".py",
   "mimetype": "text/x-python",
   "name": "python",
   "nbconvert_exporter": "python",
   "pygments_lexer": "ipython3",
   "version": "3.8.5"
  },
  "orig_nbformat": 2
 },
 "nbformat": 4,
 "nbformat_minor": 2
}