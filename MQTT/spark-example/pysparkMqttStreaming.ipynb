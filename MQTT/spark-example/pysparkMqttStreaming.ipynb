{
 "cells": [
  {
   "cell_type": "code",
   "execution_count": null,
   "metadata": {},
   "outputs": [],
   "source": [
    "import os\n",
    "import sys\n",
    "os.environ['PYSPARK_PYTHON'] = sys.executable\n",
    "os.environ['PYSPARK_DRIVER_PYTHON'] = sys.executable\n",
    "os.environ['PYSPARK_SUBMIT_ARGS'] = '--packages org.apache.bahir:spark-streaming-mqtt_2.11:2.2.1,org.apache.bahir:spark-sql-streaming-mqtt_2.11:2.2.1 pyspark-shell'"
   ]
  },
  {
   "cell_type": "code",
   "execution_count": null,
   "metadata": {},
   "outputs": [],
   "source": [
    "from pyspark.storagelevel import StorageLevel\n",
    "from pyspark.serializers import UTF8Deserializer\n",
    "from pyspark.streaming import DStream\n",
    "\n",
    "#   Subscribe to mqtt broker and follow given topics\n",
    "def createStream(ssc, brokerUrl, topic, storageLevel=StorageLevel.MEMORY_AND_DISK_SER_2):\n",
    "    jlevel = ssc._sc._getJavaStorageLevel(storageLevel)\n",
    "\n",
    "    helperClass = ssc._jvm.java.lang.Thread.currentThread().getContextClassLoader() \\\n",
    "        .loadClass(\"org.apache.spark.streaming.mqtt.MQTTUtilsPythonHelper\")\n",
    "    helper = helperClass.newInstance()\n",
    "    jstream = helper.createStream(ssc._jssc, brokerUrl, topic, jlevel)\n",
    "\n",
    "    return DStream(jstream, ssc, UTF8Deserializer())\n"
   ]
  },
  {
   "cell_type": "code",
   "execution_count": null,
   "metadata": {},
   "outputs": [],
   "source": [
    "import sys\n",
    "import json\n",
    "from pyspark import SparkContext\n",
    "from pyspark.streaming import StreamingContext\n",
    "\n",
    "sc = SparkContext(appName=\"HumAIn Test\")\n",
    "ssc = StreamingContext(sc, 10)\n",
    "ssc.checkpoint(\"checkpoint\")\n",
    "\n",
    "brokerUrl = \"tcp://localhost:1883\"\n",
    "topic1 = \"humAIn/testTopic1\"\n",
    "topic2 = \"humAIn/testTopic2\"\n",
    "topic3 = \"humAIn/testTopic3\"\n",
    "topic4 = \"humAIn/testTopic4\"\n",
    "topic5 = \"humAIn/testTopic5\"\n",
    "mqttPort = 1883\n",
    "\n",
    "mqttStream1 = createStream(ssc, brokerUrl, topic1)\n",
    "mqttStream2 = createStream(ssc, brokerUrl, topic2)"
   ]
  },
  {
   "cell_type": "code",
   "execution_count": null,
   "metadata": {},
   "outputs": [],
   "source": [
    "import paho.mqtt.publish as p\n",
    "\n",
    "#   Join the rdd's of both streams\n",
    "mqttStreamUnion = mqttStream1.union(mqttStream2)\n",
    "\n",
    "#   For each rdd\n",
    "#   publish line to mqtt broker using paho\n",
    "#   do this every time unit where streams are created\n",
    "def sendRecord(rdd):  \n",
    "    rdd.foreach(lambda record: p.single(topic3, payload=record, port=mqttPort))\n",
    "\n",
    "#   For each rdd in newly created joined dstream do above method\n",
    "mqttStreamUnion.foreachRDD(sendRecord)"
   ]
  },
  {
   "cell_type": "code",
   "execution_count": null,
   "metadata": {},
   "outputs": [],
   "source": [
    "#   For each row line in rdd\n",
    "#   Convert text to JSON\n",
    "#   Enhance JSON\n",
    "#   Dump JSON to text and put text in line\n",
    "def enhanceRecord(record):   \n",
    "    payload = json.loads(record)\n",
    "    tagset = payload[\"tagset\"]\n",
    "    tagset[\"country\"] = \"DK\"\n",
    "    tagset[\"site\"] = \"TESTsite\"\n",
    "    tagset[\"area\"] = \"Floor 5\"\n",
    "    tagset[\"line\"] = payload[\"fieldset\"][\"testwaarde\"]*-1\n",
    "    tagset[\"level1\"] = \"HardMap\"\n",
    "    return json.dumps(tagset)\n",
    "\n",
    "mqttStreamEnhanced = mqttStream1.map(lambda x: enhanceRecord(x))\n",
    "\n",
    "#   Send Enhanced JSON to mqtt broker\n",
    "def sendEnhancedRecord(rdd):  \n",
    "    rdd.foreach(lambda record: p.single(topic4, payload=record, port=mqttPort))\n",
    "\n",
    "mqttStreamEnhanced.foreachRDD(sendEnhancedRecord)"
   ]
  },
  {
   "cell_type": "code",
   "execution_count": null,
   "metadata": {},
   "outputs": [],
   "source": [
    "windowedStream1 = mqttStream1.window(20)\n",
    "windowedStream2 = mqttStream2.window(60)\n",
    "mqttStreamWindowed = windowedStream1.join(windowedStream2)\n",
    "\n",
    "#   For each rdd in newly created joined dstream print output\n",
    "mqttStreamWindowed.print()"
   ]
  },
  {
   "cell_type": "code",
   "execution_count": null,
   "metadata": {},
   "outputs": [],
   "source": [
    "ssc.start()\n",
    "ssc.awaitTermination()"
   ]
  }
 ],
 "metadata": {
  "interpreter": {
   "hash": "3a0f00a29e2033a5b0ee045003da1b20fe35932b0fc486a8dbefbb55ed0f96b3"
  },
  "kernelspec": {
   "display_name": "Python 3.7.11 64-bit ('roborana': conda)",
   "name": "python3"
  },
  "language_info": {
   "codemirror_mode": {
    "name": "ipython",
    "version": 3
   },
   "file_extension": ".py",
   "mimetype": "text/x-python",
   "name": "python",
   "nbconvert_exporter": "python",
   "pygments_lexer": "ipython3",
   "version": "3.7.11"
  },
  "orig_nbformat": 4
 },
 "nbformat": 4,
 "nbformat_minor": 2
}
