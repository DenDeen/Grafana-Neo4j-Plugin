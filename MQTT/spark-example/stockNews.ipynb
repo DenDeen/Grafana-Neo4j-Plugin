{
 "cells": [
  {
   "cell_type": "code",
   "execution_count": 2,
   "metadata": {},
   "outputs": [],
   "source": [
    "import finnhub\n",
    "finnhub_client = finnhub.Client(api_key=\"c6jpp6qad3ic1ei3pk4g\")"
   ]
  },
  {
   "cell_type": "code",
   "execution_count": 3,
   "metadata": {},
   "outputs": [],
   "source": [
    "res = finnhub_client.general_news('general', min_id=7013290)"
   ]
  },
  {
   "cell_type": "code",
   "execution_count": 9,
   "metadata": {},
   "outputs": [
    {
     "name": "stdout",
     "output_type": "stream",
     "text": [
      "7014065\n",
      "7014066\n",
      "7014067\n",
      "7014068\n",
      "7014069\n",
      "7014070\n",
      "7014071\n",
      "7014072\n",
      "7014073\n",
      "waited\n",
      "waited\n",
      "waited\n",
      "waited\n",
      "waited\n",
      "waited\n",
      "waited\n",
      "waited\n",
      "waited\n",
      "waited\n",
      "waited\n",
      "waited\n",
      "waited\n",
      "waited\n",
      "waited\n",
      "waited\n"
     ]
    }
   ],
   "source": [
    "import time\n",
    "import pandas as pd\n",
    "\n",
    "res = finnhub_client.general_news('general', min_id=0)\n",
    "df = pd.DataFrame(res)\n",
    "id=df.iloc[2][\"id\"]\n",
    "\n",
    "while (True):\n",
    "    res = finnhub_client.general_news('general', min_id=id-1)\n",
    "    df = pd.DataFrame(res)\n",
    "    while (id != df.iloc[0][\"id\"]):\n",
    "        if (id-1 == df.iloc[-1][\"id\"]):\n",
    "            print(df.iloc[-1])\n",
    "        df = df[df.id > id]\n",
    "        print(id)\n",
    "        id += 1\n",
    "    time.sleep(1)\n",
    "    print(\"waited\")"
   ]
  },
  {
   "cell_type": "code",
   "execution_count": null,
   "metadata": {},
   "outputs": [],
   "source": []
  }
 ],
 "metadata": {
  "interpreter": {
   "hash": "3a0f00a29e2033a5b0ee045003da1b20fe35932b0fc486a8dbefbb55ed0f96b3"
  },
  "kernelspec": {
   "display_name": "Python 3.7.11 64-bit ('roborana': conda)",
   "language": "python",
   "name": "python3"
  },
  "language_info": {
   "codemirror_mode": {
    "name": "ipython",
    "version": 3
   },
   "file_extension": ".py",
   "mimetype": "text/x-python",
   "name": "python",
   "nbconvert_exporter": "python",
   "pygments_lexer": "ipython3",
   "version": "3.7.11"
  },
  "orig_nbformat": 4
 },
 "nbformat": 4,
 "nbformat_minor": 2
}
